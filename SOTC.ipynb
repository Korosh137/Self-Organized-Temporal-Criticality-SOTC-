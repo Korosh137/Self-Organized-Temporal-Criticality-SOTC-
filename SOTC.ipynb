{
  "nbformat": 4,
  "nbformat_minor": 0,
  "metadata": {
    "colab": {
      "provenance": []
    },
    "kernelspec": {
      "name": "python3",
      "display_name": "Python 3"
    },
    "language_info": {
      "name": "python"
    }
  },
  "cells": [
    {
      "cell_type": "markdown",
      "source": [
        "If you use this code please reference:\n",
        "\n",
        "*   List item\n",
        "*   List item\n",
        "\n",
        "\n",
        "Mahmoodi, Korosh, Bruce J. West, and Paolo Grigolini. \"Self-organizing complex networks: individual versus global rules.\" Frontiers in physiology 8 (2017): 478.\n"
      ],
      "metadata": {
        "id": "mH-jIAFHNAx0"
      }
    },
    {
      "cell_type": "code",
      "execution_count": 1,
      "metadata": {
        "id": "D1pCOgc7I9zE"
      },
      "outputs": [],
      "source": [
        "import numpy as np\n",
        "import random\n",
        "import matplotlib.pyplot as plt\n",
        "\n"
      ]
    },
    {
      "cell_type": "code",
      "source": [
        "TimeStep = 1 * 10**6   # number of trials; length of the simulation\n",
        "\n",
        "# parameters of the Prisoner's Dilemma game\n",
        "s = 0\n",
        "b = 1.5 # b = 1 + 0.5 ; temptation to cheat = 0.5\n",
        "\n",
        "K0 = 0  # initial value for the control parameters of the agents\n",
        "CC = 0.25 # coeficient connecting the two last payoffs (feedback) to the change of the agent's control parameter\n",
        "g000 = 0.1 # coeficient of the rate in the decision making process\n",
        "\n",
        "MM = 5 # number of agents on x-axis of the 2D lattice\n",
        "NN = 7 # number of agents on y-axis of the 2D lattice\n",
        "\n"
      ],
      "metadata": {
        "id": "SadqeUZwJzFj"
      },
      "execution_count": 2,
      "outputs": []
    },
    {
      "cell_type": "code",
      "source": [
        "Selfk1010 = np.zeros(TimeStep) # records the evolution of the control parameter of a single agent at each trial\n",
        "SelfkAve = np.zeros(TimeStep)  # records the average of the control parameter of the agents at each trial\n",
        "X = np.zeros(TimeStep)         # mean field (considering states C as +1 and D as -1)\n",
        "PiT = np.zeros(TimeStep)       # average of the payoffs at each trial\n",
        "\n",
        "SelfK1 = np.full((MM, NN), K0) # matrix of previous valuse of the control parameters\n",
        "Selfk2 = np.zeros((MM, NN))    # updated control parameters\n",
        "Pi1 = np.zeros((MM, NN))       # previous payoffs\n",
        "Pi2 = np.zeros((MM, NN))       # current payoffs\n",
        "Vote = np.zeros((MM, NN))      # state of the agens; C (1) or D (0)\n",
        "g = np.zeros((MM, NN))         # number of agents in state C (1) around a given agent on the 2D lattice\n"
      ],
      "metadata": {
        "id": "EnwBZ1FDJ-6V"
      },
      "execution_count": 3,
      "outputs": []
    },
    {
      "cell_type": "code",
      "source": [
        "\n",
        "\n",
        "# Setting Initial Condition\n",
        "for ih in range(MM):\n",
        "    for jh in range(NN):\n",
        "        r = random.random()\n",
        "        if r < 0.5:\n",
        "            Vote[ih, jh] = 0\n",
        "        else:\n",
        "            Vote[ih, jh] = 1\n",
        "\n",
        "Alt2 = np.count_nonzero(Vote == 1)\n",
        "Self2 = np.count_nonzero(Vote == 0)\n",
        "X[0] = (Alt2 - Self2) / (MM * NN)\n",
        "\n",
        "for ia in range(MM):\n",
        "    for ja in range(NN):\n",
        "        SelfK1[ia, ja] = K0\n",
        "\n",
        "for i in range(1, MM - 1):\n",
        "    for j in range(1, NN - 1):\n",
        "        g[i, j] = Vote[i - 1, j] + Vote[i + 1, j] + Vote[i, j - 1] + Vote[i, j + 1]\n",
        "\n",
        "for i in range(1, MM - 1):\n",
        "    g[i, 0] = Vote[i - 1, 0] + Vote[i + 1, 0] + Vote[i, NN - 1] + Vote[i, 1]\n",
        "\n",
        "for i in range(1, MM - 1):\n",
        "    g[i, NN - 1] = Vote[i - 1, NN - 1] + Vote[i + 1, NN - 1] + Vote[i, NN - 2] + Vote[i, 0]\n",
        "\n",
        "for j in range(1, NN - 1):\n",
        "    g[0, j] = Vote[MM - 1, j] + Vote[1, j] + Vote[0, j - 1] + Vote[0, j + 1]\n",
        "\n",
        "g[0, 0] = Vote[MM - 1, 0] + Vote[1, 0] + Vote[0, NN - 1] + Vote[0, 1]\n",
        "g[MM - 1, 0] = Vote[MM - 2, 0] + Vote[0, 0] + Vote[MM - 1, NN - 1] + Vote[MM - 1, 1]\n",
        "g[0, NN - 1] = Vote[MM - 1, NN - 1] + Vote[1, NN - 1] + Vote[0, NN - 2] + Vote[0, 0]\n",
        "g[MM - 1, NN - 1] = Vote[MM - 2, NN - 1] + Vote[0, NN - 1] + Vote[MM - 1, NN - 2] + Vote[MM - 1, 0]\n",
        "\n",
        "for ii in range(MM):\n",
        "    for j0 in range(NN):\n",
        "        G = g[ii, j0]\n",
        "        if Vote[ii, j0] == 1:\n",
        "            Pi1[ii, j0] = G * (1) + (4 - G) * (-s)\n",
        "        else:\n",
        "            Pi1[ii, j0] = G * (b)\n",
        "\n",
        "        PiT[0] += Pi1[ii, j0]\n",
        "\n",
        "PiT[0] = PiT[0] / (1 * MM * NN)\n",
        "\n",
        "# End of initial conditions\n"
      ],
      "metadata": {
        "id": "yiCGxPrTKI20"
      },
      "execution_count": 4,
      "outputs": []
    },
    {
      "cell_type": "code",
      "source": [
        "\n",
        "\n",
        "for ti in range(1, TimeStep):\n",
        "    # Total Cooperators (mean field)\n",
        "    Alt2 = np.sum(Vote == 1)\n",
        "    Self2 = np.sum(Vote == 0)\n",
        "    X[ti] = (Alt2 - Self2) / (MM * NN)\n",
        "\n",
        "    # Counting 4 Neighbors\n",
        "    g[1:MM - 1, 1:NN - 1] = Vote[0:MM - 2, 1:NN - 1] + Vote[2:MM, 1:NN - 1] + \\\n",
        "                            Vote[1:MM - 1, 0:NN - 2] + Vote[1:MM - 1, 2:NN]\n",
        "\n",
        "    g[1:MM - 1, 0] = Vote[0:MM - 2, 0] + Vote[2:MM, 0] + Vote[1:MM - 1, NN - 1] + Vote[1:MM - 1, 1]\n",
        "    g[1:MM - 1, NN - 1] = Vote[0:MM - 2, NN - 1] + Vote[2:MM, NN - 1] + Vote[1:MM - 1, NN - 2] + Vote[1:MM - 1, 0]\n",
        "    g[0, 1:NN - 1] = Vote[MM - 1, 1:NN - 1] + Vote[1, 1:NN - 1] + Vote[0, 0:NN - 2] + Vote[0, 2:NN]\n",
        "    g[MM - 1, 1:NN - 1] = Vote[MM - 2, 1:NN - 1] + Vote[0, 1:NN - 1] + Vote[MM - 1, 0:NN - 2] + Vote[MM - 1, 2:NN]\n",
        "\n",
        "    g[0, 0] = Vote[MM - 1, 0] + Vote[1, 0] + Vote[0, NN - 1] + Vote[0, 1]\n",
        "    g[MM - 1, 0] = Vote[MM - 2, 0] + Vote[0, 0] + Vote[MM - 1, NN - 1] + Vote[MM - 1, 1]\n",
        "    g[0, NN - 1] = Vote[MM - 1, NN - 1] + Vote[1, NN - 1] + Vote[0, NN - 2] + Vote[0, 0]\n",
        "    g[MM - 1, NN - 1] = Vote[MM - 2, NN - 1] + Vote[0, NN - 1] + Vote[MM - 1, NN - 2] + Vote[MM - 1, 0]\n",
        "\n",
        "    # Prisoner's Dilemma GAME\n",
        "    G = g.copy()\n",
        "    G[Vote == 1] = G[Vote == 1] * (1) + (4 - G[Vote == 1]) * (-s)\n",
        "    G[Vote == 0] = G[Vote == 0] * (b)\n",
        "    Pi2 = G\n",
        "\n",
        "    PiT[ti] = np.mean(Pi2)\n",
        "\n",
        "    # New Vote DMM\n",
        "    g0 = g.copy()\n",
        "    kc = SelfK1.copy()\n",
        "    BBBB = np.exp(kc * (1 - 0.5 * g0))\n",
        "    a1to0 = g000 * BBBB\n",
        "    a0to1 = g000 / BBBB\n",
        "\n",
        "    r = np.random.rand(*a1to0.shape)\n",
        "    Vote[np.logical_and(Vote == 1, r <= a1to0)] = 0\n",
        "    r = np.random.rand(*a0to1.shape)\n",
        "    Vote[np.logical_and(Vote == 0, r <= a0to1)] = 1\n",
        "\n",
        "    SelfkAv = np.sum(SelfK1)\n",
        "    SelfkAve[ti] = SelfkAv / (MM * NN)\n",
        "    Selfk1010[ti] = SelfK1[1, 1]\n",
        "\n",
        "    # New K\n",
        "    mask = Pi1 == Pi2\n",
        "    Selfk2 = np.where(mask, 1 * SelfK1, SelfK1 + CC * (Pi2 - Pi1) / (Pi2 + Pi1))\n",
        "    mask = (Selfk2 <= 0) | (g000 * np.exp(Selfk2) > 1) | (g000 / np.exp(Selfk2) > 1)\n",
        "    Selfk2[mask] = SelfK1[mask]\n",
        "\n",
        "    # Changing old parameters with new ones\n",
        "    SelfK1 = Selfk2.copy()\n",
        "    Pi1 = Pi2.copy()"
      ],
      "metadata": {
        "id": "vSAw1csgKJr3",
        "colab": {
          "base_uri": "https://localhost:8080/"
        },
        "outputId": "e03e98f2-d6a1-4148-baf2-afcacbee6a61"
      },
      "execution_count": 5,
      "outputs": [
        {
          "output_type": "stream",
          "name": "stderr",
          "text": [
            "<ipython-input-5-b4da185fa89a>:47: RuntimeWarning: invalid value encountered in divide\n",
            "  Selfk2 = np.where(mask, 1 * SelfK1, SelfK1 + CC * (Pi2 - Pi1) / (Pi2 + Pi1))\n"
          ]
        }
      ]
    },
    {
      "cell_type": "code",
      "source": [
        "plt.plot(SelfkAve)\n",
        "plt.xlabel('Time Step')\n",
        "plt.ylabel('SelfkAve')\n",
        "plt.title('SelfkAve over Time')\n",
        "plt.grid(True)\n",
        "plt.show()"
      ],
      "metadata": {
        "colab": {
          "base_uri": "https://localhost:8080/",
          "height": 472
        },
        "id": "ZN96fAcJJ09X",
        "outputId": "c283529a-479e-4fa7-d552-7764e52b23a4"
      },
      "execution_count": 6,
      "outputs": [
        {
          "output_type": "display_data",
          "data": {
            "text/plain": [
              "<Figure size 640x480 with 1 Axes>"
            ],
            "image/png": "[encoded data removed]"
          },
          "metadata": {}
        }
      ]
    }
  ]
}